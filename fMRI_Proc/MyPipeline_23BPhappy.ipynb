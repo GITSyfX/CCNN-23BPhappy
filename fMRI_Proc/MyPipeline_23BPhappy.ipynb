{
 "cells": [
  {
   "cell_type": "code",
   "execution_count": null,
   "metadata": {},
   "outputs": [],
   "source": [
    "import os\n",
    "\n",
    "# 设置一些variable\n",
    "t1 = '20230313150732_5_MPRAGE.nii' # set the t1 file\n",
    "subj = 'M011' # 设定一个variable\n",
    "t1_2FS = f'{subj}_2FS.nii.gz' \n",
    "AFNI_HOME = os.getenv('AFNIDIR')\n",
    "FREESURFER_HOME = os.getenv('FREESURFER_HOME') # 获得 FreeSurfer的主文件夹路径\n",
    "MNIT1 = AFNI_HOME + '/MNI152_2009_template_SSW.nii.gz' # 我们用MNI152去掉头皮的模板作为我们的base\n",
    "\n",
    "# 我们先走到数据文件夹 set data path\n",
    "%cd /home/yufengxia/Code/yfXRepo/fMRICourse/Example_data/20230313_BPhappy_M011 \n",
    "! mkdir anatpp # 新建一个文件夹用来处理t1像\n",
    "! cp {t1} anatpp/ # 把t1像拷贝一份到文件夹里面\n",
    "%cd anatpp/"
   ]
  },
  {
   "cell_type": "code",
   "execution_count": null,
   "metadata": {},
   "outputs": [],
   "source": []
  }
 ],
 "metadata": {
  "language_info": {
   "name": "python"
  },
  "orig_nbformat": 4
 },
 "nbformat": 4,
 "nbformat_minor": 2
}
