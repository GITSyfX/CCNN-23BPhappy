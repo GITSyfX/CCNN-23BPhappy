{
 "cells": [
  {
   "attachments": {},
   "cell_type": "markdown",
   "metadata": {},
   "source": [
    "# 05_funcGLM2"
   ]
  },
  {
   "attachments": {},
   "cell_type": "markdown",
   "metadata": {},
   "source": [
    "这是功能像的1st GLM。"
   ]
  },
  {
   "cell_type": "code",
   "execution_count": 4,
   "metadata": {},
   "outputs": [],
   "source": [
    "import os\n",
    "from RZutilpy.system import Path, unix_wrapper, gettimestr, makedirs\n",
    "from RZutilpy.rzio import matchfiles"
   ]
  },
  {
   "attachments": {},
   "cell_type": "markdown",
   "metadata": {},
   "source": [
    "# Step 1. "
   ]
  },
  {
   "attachments": {},
   "cell_type": "markdown",
   "metadata": {},
   "source": [
    "复制GLM1的文件到temp文件夹"
   ]
  },
  {
   "cell_type": "code",
   "execution_count": 5,
   "metadata": {},
   "outputs": [
    {
     "name": "stdout",
     "output_type": "stream",
     "text": [
      "/home/yufengxia/Data/23BPhappy/20230206_BPhappy_M002/funcGLM1/M002_option_CRandEV_gamble_RPE_stats.nii.gz\n",
      "/home/yufengxia/Data/23BPhappy/20230220_BPhappy_M003/funcGLM1/M003_option_CRandEV_gamble_RPE_stats.nii.gz\n",
      "/home/yufengxia/Data/23BPhappy/20230227_BPhappy_M005/funcGLM1/M005_option_CRandEV_gamble_RPE_stats.nii.gz\n",
      "/home/yufengxia/Data/23BPhappy/20230227_BPhappy_M006/funcGLM1/M006_option_CRandEV_gamble_RPE_stats.nii.gz\n",
      "/home/yufengxia/Data/23BPhappy/20230306_BPhappy_M007/funcGLM1/M007_option_CRandEV_gamble_RPE_stats.nii.gz\n",
      "/home/yufengxia/Data/23BPhappy/20230312_BPhappy_M008/funcGLM1/M008_option_CRandEV_gamble_RPE_stats.nii.gz\n",
      "/home/yufengxia/Data/23BPhappy/20230312_BPhappy_M009/funcGLM1/M009_option_CRandEV_gamble_RPE_stats.nii.gz\n",
      "/home/yufengxia/Data/23BPhappy/20230313_BPhappy_M010/funcGLM1/M010_option_CRandEV_gamble_RPE_stats.nii.gz\n",
      "/home/yufengxia/Data/23BPhappy/20230313_BPhappy_M011/funcGLM1/M011_option_CRandEV_gamble_RPE_stats.nii.gz\n",
      "/home/yufengxia/Data/23BPhappy/20230318_BPhappy_M012/funcGLM1/M012_option_CRandEV_gamble_RPE_stats.nii.gz\n",
      "/home/yufengxia/Data/23BPhappy/20230318_BPhappy_M013/funcGLM1/M013_option_CRandEV_gamble_RPE_stats.nii.gz\n",
      "/home/yufengxia/Data/23BPhappy/20230318_BPhappy_M014/funcGLM1/M014_option_CRandEV_gamble_RPE_stats.nii.gz\n",
      "/home/yufengxia/Data/23BPhappy/20230320_BPhappy_M015/funcGLM1/M015_option_CRandEV_gamble_RPE_stats.nii.gz\n",
      "/home/yufengxia/Data/23BPhappy/20230325_BPhappy_M016/funcGLM1/M016_option_CRandEV_gamble_RPE_stats.nii.gz\n",
      "/home/yufengxia/Data/23BPhappy/20230326_BPhappy_M018/funcGLM1/M018_option_CRandEV_gamble_RPE_stats.nii.gz\n",
      "/home/yufengxia/Data/23BPhappy/20230326_BPhappy_M019/funcGLM1/M019_option_CRandEV_gamble_RPE_stats.nii.gz\n",
      "/home/yufengxia/Data/23BPhappy/20230327_BPhappy_M020/funcGLM1/M020_option_CRandEV_gamble_RPE_stats.nii.gz\n",
      "/home/yufengxia/Data/23BPhappy/20230403_BPhappy_M022/funcGLM1/M022_option_CRandEV_gamble_RPE_stats.nii.gz\n",
      "/home/yufengxia/Data/23BPhappy/20230408_BPhappy_M023/funcGLM1/M023_option_CRandEV_gamble_RPE_stats.nii.gz\n",
      "/home/yufengxia/Data/23BPhappy/20230408_BPhappy_M024/funcGLM1/M024_option_CRandEV_gamble_RPE_stats.nii.gz\n"
     ]
    }
   ],
   "source": [
    "folders = matchfiles(f'/home/yufengxia/Data/23BPhappy/*_BPhappy_*')\n",
    "#del folders[0:12] \n",
    "Param1 = 'option_hp'\n",
    "Param2 = 'gamble_hp'\n",
    "\n",
    "for folderofsubj in folders:\n",
    "    subj = folderofsubj[-4:]\n",
    "    GLM_dir = Path(f'{folderofsubj}/funcGLM1/')\n",
    "    GLM_dir = Path(GLM_dir)\n",
    "    if GLM_dir.exists() == False:\n",
    "        continue\n",
    "    statsfiles = matchfiles(f'{GLM_dir}/*{Param1}_{Param2}_stats.nii*')\n",
    "    !cp {statsfiles}  /home/yufengxia/Data/23BPhappy/temp\n",
    "    print(statsfiles)\n",
    "    \n"
   ]
  },
  {
   "cell_type": "code",
   "execution_count": 10,
   "metadata": {},
   "outputs": [
    {
     "name": "stdout",
     "output_type": "stream",
     "text": [
      "['/home/yufengxia/Data/23BPhappy/temp/M002_option_hp_gamble_hp_stats.nii.gz', '/home/yufengxia/Data/23BPhappy/temp/M003_option_hp_gamble_hp_stats.nii.gz', '/home/yufengxia/Data/23BPhappy/temp/M005_option_hp_gamble_hp_stats.nii.gz', '/home/yufengxia/Data/23BPhappy/temp/M006_option_hp_gamble_hp_stats.nii.gz', '/home/yufengxia/Data/23BPhappy/temp/M007_option_hp_gamble_hp_stats.nii.gz', '/home/yufengxia/Data/23BPhappy/temp/M008_option_hp_gamble_hp_stats.nii.gz', '/home/yufengxia/Data/23BPhappy/temp/M009_option_hp_gamble_hp_stats.nii.gz', '/home/yufengxia/Data/23BPhappy/temp/M010_option_hp_gamble_hp_stats.nii.gz', '/home/yufengxia/Data/23BPhappy/temp/M011_option_hp_gamble_hp_stats.nii.gz', '/home/yufengxia/Data/23BPhappy/temp/M012_option_hp_gamble_hp_stats.nii.gz', '/home/yufengxia/Data/23BPhappy/temp/M013_option_hp_gamble_hp_stats.nii.gz', '/home/yufengxia/Data/23BPhappy/temp/M014_option_hp_gamble_hp_stats.nii.gz', '/home/yufengxia/Data/23BPhappy/temp/M015_option_hp_gamble_hp_stats.nii.gz', '/home/yufengxia/Data/23BPhappy/temp/M016_option_hp_gamble_hp_stats.nii.gz', '/home/yufengxia/Data/23BPhappy/temp/M018_option_hp_gamble_hp_stats.nii.gz', '/home/yufengxia/Data/23BPhappy/temp/M019_option_hp_gamble_hp_stats.nii.gz', '/home/yufengxia/Data/23BPhappy/temp/M020_option_hp_gamble_hp_stats.nii.gz', '/home/yufengxia/Data/23BPhappy/temp/M022_option_hp_gamble_hp_stats.nii.gz', '/home/yufengxia/Data/23BPhappy/temp/M023_option_hp_gamble_hp_stats.nii.gz', '/home/yufengxia/Data/23BPhappy/temp/M024_option_hp_gamble_hp_stats.nii.gz']\n",
      "/home/yufengxia/Data/23BPhappy/temp\n",
      "++ 3dttest++: AFNI version=AFNI_22.2.10 (Sep  2 2022) [64-bit]\n",
      "++ Authored by: Zhark++\n",
      "++ option -setA :: processing as SHORT form (all values are datasets)\n",
      "++ have 20 volumes corresponding to option '-setA'\n",
      "++ no mask ==> processing all 608000 voxels\n",
      "++ loading -setA datasets\n",
      "\u001b[7m*+ WARNING:\u001b[0m 3dttest++ -setA :: 411102 vectors are constant\n",
      "++ t-testing:0123456789.0123456789.0123456789.0123456789.0123456789.!\n",
      " + skipped 411102 voxels completely for having constant data\n",
      "++ ---------- End of analyses -- freeing workspaces ----------\n",
      "++ Creating FDR curves in output dataset\n",
      "\u001b[7m*+ WARNING:\u001b[0m Smallest FDR q [1 SetA_Tstat] = 0.552698 ==> few true single voxel detections\n",
      " + Added 1 FDR curve to dataset\n",
      "++ Output dataset /home/yufengxia/Data/23BPhappy/results/GLM2_option_hp_gamble_hp_gamble.dset+tlrc.BRIK\n",
      "++ ----- 3dttest++ says so long, farewell, and happy trails to you :) -----\n"
     ]
    }
   ],
   "source": [
    "Param1 = 'option_hp'\n",
    "Param2 = 'gamble_hp'\n",
    "\n",
    "command = '3dttest++ -setA' \n",
    "statsfiles = matchfiles(f'/home/yufengxia/Data/23BPhappy/temp/*{Param1}_{Param2}_stats.nii*')\n",
    "for files in statsfiles:\n",
    "    command += ' ' + files + '\\'[10]\\''\n",
    "print(statsfiles)\n",
    "%cd /home/yufengxia/Data/23BPhappy/temp\n",
    "! {command} -prefix /home/yufengxia/Data/23BPhappy/results/GLM2_{Param1}_{Param2}_gamble.dset"
   ]
  },
  {
   "cell_type": "code",
   "execution_count": null,
   "metadata": {},
   "outputs": [],
   "source": [
    "#可视化结果\n",
    "AFNI_HOME = os.getenv('AFNIDIR')\n",
    "MNIT1 = AFNI_HOME + '/MNI152_2009_template_SSW.nii.gz'\n",
    "%cd /home/yufengxia/Data/23BPhappy/results/\n",
    "! afni -dset GLM2_{Param1}_{Param2}.dset+tlrc.BRIK  {MNIT1}"
   ]
  },
  {
   "cell_type": "code",
   "execution_count": null,
   "metadata": {},
   "outputs": [],
   "source": []
  }
 ],
 "metadata": {
  "kernelspec": {
   "display_name": "Python 3 (ipykernel)",
   "language": "python",
   "name": "python3"
  },
  "language_info": {
   "codemirror_mode": {
    "name": "ipython",
    "version": 3
   },
   "file_extension": ".py",
   "mimetype": "text/x-python",
   "name": "python",
   "nbconvert_exporter": "python",
   "pygments_lexer": "ipython3",
   "version": "3.10.9"
  }
 },
 "nbformat": 4,
 "nbformat_minor": 4
}
