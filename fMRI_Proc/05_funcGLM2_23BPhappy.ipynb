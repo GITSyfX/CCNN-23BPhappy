{
 "cells": [
  {
   "attachments": {},
   "cell_type": "markdown",
   "metadata": {},
   "source": [
    "# 05_funcGLM2"
   ]
  },
  {
   "attachments": {},
   "cell_type": "markdown",
   "metadata": {},
   "source": [
    "这是功能像的1st GLM。"
   ]
  },
  {
   "cell_type": "code",
   "execution_count": null,
   "metadata": {},
   "outputs": [],
   "source": [
    "import os\n",
    "import scipy.io as scio\n",
    "from RZutilpy.system import Path, unix_wrapper, gettimestr, makedirs\n",
    "from RZutilpy.rzio import matchfiles"
   ]
  },
  {
   "attachments": {},
   "cell_type": "markdown",
   "metadata": {},
   "source": [
    "# Step 1. "
   ]
  },
  {
   "attachments": {},
   "cell_type": "markdown",
   "metadata": {},
   "source": [
    "Load group information"
   ]
  },
  {
   "cell_type": "code",
   "execution_count": null,
   "metadata": {},
   "outputs": [],
   "source": [
    "Group = scio.loadmat('/home/data/yufengspace/23BPhappy/temp/clidata.mat')\n",
    "Group = Group['clidata']\n",
    "\n",
    "GroupMDD = []\n",
    "GroupBD = []\n",
    "#del folders[0:12] \n",
    "\n",
    "Param1 = 'option_CRandEV'\n",
    "Param2 = 'gamble_RPE'\n",
    "for i in range(0,len(Group)):\n",
    "    subj = Group[i][0][0]\n",
    "    if Group[i][10][0][0] == 0:\n",
    "        GroupMDD.append(subj)\n",
    "    elif Group[i][10][0][0] == 1:\n",
    "        GroupBD.append(subj)\n",
    "\n",
    "    #statsfiles = matchfiles(f'{GLM_dir}/*{Param1}_{Param2}_stats+tlrc.BRIK')\n",
    "    #!cp {statsfiles}  /home/yufengxia/Data/23BPhappy/temp\n",
    "    #print(statsfiles)"
   ]
  },
  {
   "cell_type": "markdown",
   "metadata": {},
   "source": [
    "# Step 2. "
   ]
  },
  {
   "cell_type": "markdown",
   "metadata": {},
   "source": [
    "Calculate Group mask"
   ]
  },
  {
   "cell_type": "code",
   "execution_count": null,
   "metadata": {},
   "outputs": [],
   "source": [
    "\n",
    "folders = matchfiles(f'/home/data/yufengspace/23BPhappy/*_BPhappy_*')\n",
    "for folderofsubj in folders:\n",
    "    subj = folderofsubj[-4:]\n",
    "    func_dir = Path(f'{folderofsubj}/funcpp')\n",
    "    func_dir = Path(func_dir)\n",
    "    if subj in GroupMDD: \n",
    "        ! mv {func_dir}/mask_epi_anat.{subj}.nii.gz /home/data/yufengspace/23BPhappy/temp # move all masks of individuals to temp dir\n",
    "    if subj in GroupBD:\n",
    "        ! mv {func_dir}/mask_epi_anat.{subj}.nii.gz /home/data/yufengspace/23BPhappy/temp\n",
    "\n",
    "#create group mask\n",
    "%cd /home/data/yufengspace/23BPhappy/temp/\n",
    "! 3dmask_tool -input mask_epi_anat.* \\\n",
    "        -prefix Group_mask_inter -inter # calculate an intersection of the masks, or you can choose calculate an union mask "
   ]
  },
  {
   "cell_type": "markdown",
   "metadata": {},
   "source": [
    "# Step 3. "
   ]
  },
  {
   "cell_type": "markdown",
   "metadata": {},
   "source": [
    "Generating the Results"
   ]
  },
  {
   "cell_type": "code",
   "execution_count": null,
   "metadata": {},
   "outputs": [],
   "source": [
    "%cd /home/data/yufengspace/23BPhappy/results/\n",
    "! tcsh /home/yufengxia/Code/yfXRepo/CCNN-23BPhappy/fMRI_Proc/scripts/cmd.funcGLM2.23BPhappy \n",
    "! rm *minmax* *cmd* "
   ]
  },
  {
   "cell_type": "code",
   "execution_count": null,
   "metadata": {},
   "outputs": [],
   "source": [
    "Param1 = 'option_CRandEV'\n",
    "Param2 = 'gamble_RPE'\n",
    "folders = matchfiles(f'/home/data/yufengspace/23BPhappy/*_BPhappy_*')\n",
    "\n",
    "setA = '-setA' \n",
    "setB = '-setB'\n",
    "for folderofsubj in folders:\n",
    "    subj = folderofsubj[-4:]\n",
    "    GLM_dir = Path(f'{folderofsubj}/funcGLM1')\n",
    "    GLM_dir = Path(GLM_dir)\n",
    "    files =  f'{GLM_dir}/{subj}_{Param1}_{Param2}_stats+tlrc[12]'\n",
    "    if subj in GroupMDD:     \n",
    "        setA += ' '  + files \n",
    "    if subj in GroupBD:\n",
    "        setA += ' '  + files \n",
    "%cd /home/data/yufengspace/23BPhappy/results/\n",
    "print(setA)\n",
    "! 3dttest++ -Clustsim -mask Group_mask_inter+tlrc \\\n",
    "    -prefix GLM2_ALL_{Param2}_loop {setA} -labelA ALL \n",
    "\n",
    "\n",
    "setA = '-setA' \n",
    "setB = '-setB'\n",
    "for folderofsubj in folders:\n",
    "    subj = folderofsubj[-4:]    \n",
    "    GLM_dir = Path(f'{folderofsubj}/funcGLM1')\n",
    "    GLM_dir = Path(GLM_dir)\n",
    "    files = f'{GLM_dir}/{subj}_{Param1}_{Param2}_stats+tlrc[12]'\n",
    "    if subj in GroupMDD:\n",
    "        setA += ' ' + files \n",
    "    if subj in GroupBD:\n",
    "        setB += ' ' + files \n",
    "\n",
    "\n",
    "print(setA)\n",
    "print(setB)\n",
    "%cd /home/data/yufengspace/23BPhappy/results/\n",
    "! 3dttest++ -Clustsim -mask Group_mask_inter+tlrc.HEAD\\\n",
    "    -prefix GLM2_CT_{Param2}.dset {setA} {setB} -labelA MDD -labelB BD"
   ]
  },
  {
   "cell_type": "code",
   "execution_count": null,
   "metadata": {},
   "outputs": [],
   "source": [
    "Param1 = 'option_CRandEV'\n",
    "Param2 = 'gamble_RPE'\n",
    "seed = 'rvs'\n",
    "folders = matchfiles(f'/home/data/yufengspace/23BPhappy/*_BPhappy_*')\n",
    "\n",
    "setA = '-setA' \n",
    "for folderofsubj in folders:\n",
    "    subj = folderofsubj[-4:]\n",
    "    ppi_dir = Path(f'{folderofsubj}/funcppi')\n",
    "    ppi_dir = Path(ppi_dir)\n",
    "    files = f'{ppi_dir}/PPI.{subj}.{seed}.stats.+tlrc[16]' #注意这里比上面GLM1文件夹里的stats文件命名多了一个‘.’\n",
    "    if subj in GroupMDD:     \n",
    "        setA += ' '  + files \n",
    "    if subj in GroupBD:\n",
    "        setA += ' '  + files \n",
    "\n",
    "print(setA)\n",
    "%cd /home/data/yufengspace/23BPhappy/results/\n",
    "! 3dttest++ -Clustsim -mask Group_mask_uni+tlrc.HEAD\\\n",
    "    -prefix GLM2_PPIALL_{seed}_{Param2}.dset {setA} -labelA ALL \n",
    "\n",
    "\n",
    "setA = '-setA' \n",
    "setB = '-setB'\n",
    "for folderofsubj in folders:\n",
    "    subj = folderofsubj[-4:]\n",
    "    ppi_dir = Path(f'{folderofsubj}/funcppi')\n",
    "    ppi_dir = Path(ppi_dir)\n",
    "    files = f'{ppi_dir}/PPI.{subj}.{seed}.stats.+tlrc[16]'\n",
    "    if subj in GroupMDD:\n",
    "        setA += ' '  + files \n",
    "    if subj in GroupBD:\n",
    "        setB += ' '  + files\n",
    "\n",
    "print(setA)\n",
    "print(setB)\n",
    "%cd /home/data/yufengspace/23BPhappy/results/\n",
    "! 3dttest++ -Clustsim -mask Group_mask_uni+tlrc.HEAD\\\n",
    "    -prefix GLM2_PPICT_{seed}_{Param2}.dset {setA} {setB} -labelA MDD -labelB BD"
   ]
  },
  {
   "cell_type": "code",
   "execution_count": null,
   "metadata": {},
   "outputs": [],
   "source": [
    "#可视化结果\n",
    "Param1 = 'option_CRandEV'\n",
    "Param2 = 'gamble_RPE'\n",
    "AFNI_HOME = os.getenv('AFNIDIR')\n",
    "MNIT1 = AFNI_HOME + '/MNI152_2009_template_SSW.nii.gz'\n",
    "%cd /home/data/yufengspace/23BPhappy/results/\n",
    "! afni -dset GLM2_CT_{Param2}+tlrc.BRIK {MNIT1}"
   ]
  }
 ],
 "metadata": {
  "kernelspec": {
   "display_name": "Python 3 (ipykernel)",
   "language": "python",
   "name": "python3"
  },
  "language_info": {
   "codemirror_mode": {
    "name": "ipython",
    "version": 3
   },
   "file_extension": ".py",
   "mimetype": "text/x-python",
   "name": "python",
   "nbconvert_exporter": "python",
   "pygments_lexer": "ipython3",
   "version": "3.11.6"
  }
 },
 "nbformat": 4,
 "nbformat_minor": 4
}
