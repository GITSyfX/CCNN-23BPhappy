{
 "cells": [
  {
   "attachments": {},
   "cell_type": "markdown",
   "metadata": {},
   "source": [
    "# 05_funcGLM2"
   ]
  },
  {
   "attachments": {},
   "cell_type": "markdown",
   "metadata": {},
   "source": [
    "这是功能像的1st GLM。"
   ]
  },
  {
   "cell_type": "code",
   "execution_count": 2,
   "metadata": {},
   "outputs": [
    {
     "ename": "ModuleNotFoundError",
     "evalue": "No module named 'RZutilpy'",
     "output_type": "error",
     "traceback": [
      "\u001b[1;31m---------------------------------------------------------------------------\u001b[0m",
      "\u001b[1;31mModuleNotFoundError\u001b[0m                       Traceback (most recent call last)",
      "\u001b[1;32mc:\\Users\\GHOSTI~1\\AppData\\Roaming\\MobaXterm\\slash\\mx86_64b\\RemoteFiles\\132540_2_1\\05_funcGLM2_23BPhappy.ipynb 单元格 3\u001b[0m line \u001b[0;36m3\n\u001b[0;32m      <a href='vscode-notebook-cell:/c%3A/Users/GHOSTI~1/AppData/Roaming/MobaXterm/slash/mx86_64b/RemoteFiles/132540_2_1/05_funcGLM2_23BPhappy.ipynb#W2sZmlsZQ%3D%3D?line=0'>1</a>\u001b[0m \u001b[39mimport\u001b[39;00m \u001b[39mos\u001b[39;00m\n\u001b[0;32m      <a href='vscode-notebook-cell:/c%3A/Users/GHOSTI~1/AppData/Roaming/MobaXterm/slash/mx86_64b/RemoteFiles/132540_2_1/05_funcGLM2_23BPhappy.ipynb#W2sZmlsZQ%3D%3D?line=1'>2</a>\u001b[0m \u001b[39mimport\u001b[39;00m \u001b[39mscipy\u001b[39;00m\u001b[39m.\u001b[39;00m\u001b[39mio\u001b[39;00m \u001b[39mas\u001b[39;00m \u001b[39mscio\u001b[39;00m\n\u001b[1;32m----> <a href='vscode-notebook-cell:/c%3A/Users/GHOSTI~1/AppData/Roaming/MobaXterm/slash/mx86_64b/RemoteFiles/132540_2_1/05_funcGLM2_23BPhappy.ipynb#W2sZmlsZQ%3D%3D?line=2'>3</a>\u001b[0m \u001b[39mfrom\u001b[39;00m \u001b[39mRZutilpy\u001b[39;00m\u001b[39m.\u001b[39;00m\u001b[39msystem\u001b[39;00m \u001b[39mimport\u001b[39;00m Path, unix_wrapper, gettimestr, makedirs\n\u001b[0;32m      <a href='vscode-notebook-cell:/c%3A/Users/GHOSTI~1/AppData/Roaming/MobaXterm/slash/mx86_64b/RemoteFiles/132540_2_1/05_funcGLM2_23BPhappy.ipynb#W2sZmlsZQ%3D%3D?line=3'>4</a>\u001b[0m \u001b[39mfrom\u001b[39;00m \u001b[39mRZutilpy\u001b[39;00m\u001b[39m.\u001b[39;00m\u001b[39mrzio\u001b[39;00m \u001b[39mimport\u001b[39;00m matchfiles\n",
      "\u001b[1;31mModuleNotFoundError\u001b[0m: No module named 'RZutilpy'"
     ]
    }
   ],
   "source": [
    "import os\n",
    "import scipy.io as scio\n",
    "from RZutilpy.system import Path, unix_wrapper, gettimestr, makedirs\n",
    "from RZutilpy.rzio import matchfiles"
   ]
  },
  {
   "attachments": {},
   "cell_type": "markdown",
   "metadata": {},
   "source": [
    "# Step 1. "
   ]
  },
  {
   "attachments": {},
   "cell_type": "markdown",
   "metadata": {},
   "source": [
    "复制GLM1的文件到temp文件夹"
   ]
  },
  {
   "cell_type": "code",
   "execution_count": 1,
   "metadata": {},
   "outputs": [
    {
     "ename": "NameError",
     "evalue": "name 'matchfiles' is not defined",
     "output_type": "error",
     "traceback": [
      "\u001b[1;31m---------------------------------------------------------------------------\u001b[0m",
      "\u001b[1;31mNameError\u001b[0m                                 Traceback (most recent call last)",
      "\u001b[1;32mc:\\Users\\GHOSTI~1\\AppData\\Roaming\\MobaXterm\\slash\\mx86_64b\\RemoteFiles\\132540_2_1\\05_funcGLM2_23BPhappy.ipynb 单元格 6\u001b[0m line \u001b[0;36m1\n\u001b[1;32m----> <a href='vscode-notebook-cell:/c%3A/Users/GHOSTI~1/AppData/Roaming/MobaXterm/slash/mx86_64b/RemoteFiles/132540_2_1/05_funcGLM2_23BPhappy.ipynb#W5sZmlsZQ%3D%3D?line=0'>1</a>\u001b[0m folders \u001b[39m=\u001b[39m matchfiles(\u001b[39mf\u001b[39m\u001b[39m'\u001b[39m\u001b[39m/home/yufengxia/Data/23BPhappy/*_BPhappy_*\u001b[39m\u001b[39m'\u001b[39m)\n\u001b[0;32m      <a href='vscode-notebook-cell:/c%3A/Users/GHOSTI~1/AppData/Roaming/MobaXterm/slash/mx86_64b/RemoteFiles/132540_2_1/05_funcGLM2_23BPhappy.ipynb#W5sZmlsZQ%3D%3D?line=2'>3</a>\u001b[0m Group \u001b[39m=\u001b[39m scio\u001b[39m.\u001b[39mloadmat(\u001b[39m'\u001b[39m\u001b[39m/home/yufengxia/Data/23BPhappy/temp/clidata.mat\u001b[39m\u001b[39m'\u001b[39m)\n\u001b[0;32m      <a href='vscode-notebook-cell:/c%3A/Users/GHOSTI~1/AppData/Roaming/MobaXterm/slash/mx86_64b/RemoteFiles/132540_2_1/05_funcGLM2_23BPhappy.ipynb#W5sZmlsZQ%3D%3D?line=3'>4</a>\u001b[0m Group \u001b[39m=\u001b[39m Group[\u001b[39m'\u001b[39m\u001b[39mclidata\u001b[39m\u001b[39m'\u001b[39m]\n",
      "\u001b[1;31mNameError\u001b[0m: name 'matchfiles' is not defined"
     ]
    }
   ],
   "source": [
    "Group = scio.loadmat('/home/yufengxia/Data/23BPhappy/temp/clidata.mat')\n",
    "Group = Group['clidata']\n",
    "\n",
    "\n",
    "\n",
    "GroupMDD = []\n",
    "GroupBD = []\n",
    "#del folders[0:12] \n",
    "\n",
    "Param1 = 'option_CRandEV'\n",
    "Param2 = 'gamble_CRandEV'\n",
    "for i in range(0,len(Group)):\n",
    "    subj = Group[i][0][0]\n",
    "    folders = matchfiles(f'/home/yufengxia/Data/23BPhappy/*_BPhappy_{subj}')\n",
    "    GLM_dir = Path(f'{folders}/funcGLM1')\n",
    "    GLM_dir = Path(GLM_dir)\n",
    "    if GLM_dir.exists() == False:\n",
    "        continue\n",
    "\n",
    "    if Group[i][10][0][0] == 0:\n",
    "        GroupMDD.append(subj)\n",
    "    elif Group[i][10][0][0] == 1:\n",
    "            GroupBD.append(subj)\n",
    "\n",
    "    statsfiles = matchfiles(f'{GLM_dir}/*{Param1}_{Param2}_stats.nii*')\n",
    "    !cp {statsfiles}  /home/yufengxia/Data/23BPhappy/temp\n",
    "    print(statsfiles)\n",
    "    \n"
   ]
  },
  {
   "cell_type": "code",
   "execution_count": 10,
   "metadata": {},
   "outputs": [
    {
     "name": "stdout",
     "output_type": "stream",
     "text": [
      "['/home/yufengxia/Data/23BPhappy/temp/M002_option_hp_gamble_hp_stats.nii.gz', '/home/yufengxia/Data/23BPhappy/temp/M003_option_hp_gamble_hp_stats.nii.gz', '/home/yufengxia/Data/23BPhappy/temp/M005_option_hp_gamble_hp_stats.nii.gz', '/home/yufengxia/Data/23BPhappy/temp/M006_option_hp_gamble_hp_stats.nii.gz', '/home/yufengxia/Data/23BPhappy/temp/M007_option_hp_gamble_hp_stats.nii.gz', '/home/yufengxia/Data/23BPhappy/temp/M008_option_hp_gamble_hp_stats.nii.gz', '/home/yufengxia/Data/23BPhappy/temp/M009_option_hp_gamble_hp_stats.nii.gz', '/home/yufengxia/Data/23BPhappy/temp/M010_option_hp_gamble_hp_stats.nii.gz', '/home/yufengxia/Data/23BPhappy/temp/M011_option_hp_gamble_hp_stats.nii.gz', '/home/yufengxia/Data/23BPhappy/temp/M012_option_hp_gamble_hp_stats.nii.gz', '/home/yufengxia/Data/23BPhappy/temp/M013_option_hp_gamble_hp_stats.nii.gz', '/home/yufengxia/Data/23BPhappy/temp/M014_option_hp_gamble_hp_stats.nii.gz', '/home/yufengxia/Data/23BPhappy/temp/M015_option_hp_gamble_hp_stats.nii.gz', '/home/yufengxia/Data/23BPhappy/temp/M016_option_hp_gamble_hp_stats.nii.gz', '/home/yufengxia/Data/23BPhappy/temp/M018_option_hp_gamble_hp_stats.nii.gz', '/home/yufengxia/Data/23BPhappy/temp/M019_option_hp_gamble_hp_stats.nii.gz', '/home/yufengxia/Data/23BPhappy/temp/M020_option_hp_gamble_hp_stats.nii.gz', '/home/yufengxia/Data/23BPhappy/temp/M022_option_hp_gamble_hp_stats.nii.gz', '/home/yufengxia/Data/23BPhappy/temp/M023_option_hp_gamble_hp_stats.nii.gz', '/home/yufengxia/Data/23BPhappy/temp/M024_option_hp_gamble_hp_stats.nii.gz']\n",
      "/home/yufengxia/Data/23BPhappy/temp\n",
      "++ 3dttest++: AFNI version=AFNI_22.2.10 (Sep  2 2022) [64-bit]\n",
      "++ Authored by: Zhark++\n",
      "++ option -setA :: processing as SHORT form (all values are datasets)\n",
      "++ have 20 volumes corresponding to option '-setA'\n",
      "++ no mask ==> processing all 608000 voxels\n",
      "++ loading -setA datasets\n",
      "\u001b[7m*+ WARNING:\u001b[0m 3dttest++ -setA :: 411102 vectors are constant\n",
      "++ t-testing:0123456789.0123456789.0123456789.0123456789.0123456789.!\n",
      " + skipped 411102 voxels completely for having constant data\n",
      "++ ---------- End of analyses -- freeing workspaces ----------\n",
      "++ Creating FDR curves in output dataset\n",
      "\u001b[7m*+ WARNING:\u001b[0m Smallest FDR q [1 SetA_Tstat] = 0.552698 ==> few true single voxel detections\n",
      " + Added 1 FDR curve to dataset\n",
      "++ Output dataset /home/yufengxia/Data/23BPhappy/results/GLM2_option_hp_gamble_hp_gamble.dset+tlrc.BRIK\n",
      "++ ----- 3dttest++ says so long, farewell, and happy trails to you :) -----\n"
     ]
    }
   ],
   "source": [
    "Param1 = 'option_CRandEV'\n",
    "Param2 = 'gamble_RPE'\n",
    "\n",
    "setA = '-setA' \n",
    "setB = '-setB'\n",
    "statsfiles = matchfiles(f'/home/yufengxia/Data/23BPhappy/temp/*{Param1}_{Param2}_stats.nii*')\n",
    "for files in statsfiles:\n",
    "    subj = files[36:40]\n",
    "    if subj in GroupMDD:\n",
    "        setA += ' ' + files + '\\'[10]\\''\n",
    "    if subj in GroupBD:\n",
    "        setB += ' ' + files + '\\'[10]\\''\n",
    "\n",
    "print(setA)\n",
    "print(setB)\n",
    "%cd /home/yufengxia/Data/23BPhappy/temp\n",
    "! 3dttest++ -prefix /home/yufengxia/Data/23BPhappy/results/GLM2_automask_{Param1}_{Param2}.dset {setA} {setB} -labelA MDD -labelB BD"
   ]
  },
  {
   "cell_type": "code",
   "execution_count": null,
   "metadata": {},
   "outputs": [],
   "source": [
    "#可视化结果\n",
    "AFNI_HOME = os.getenv('AFNIDIR')\n",
    "MNIT1 = AFNI_HOME + '/MNI152_2009_template_SSW.nii.gz'\n",
    "%cd /home/yufengxia/Data/23BPhappy/results/\n",
    "! afni -dset GLM2_{Param1}_{Param2}.dset+tlrc.BRIK  {MNIT1}"
   ]
  },
  {
   "cell_type": "code",
   "execution_count": null,
   "metadata": {},
   "outputs": [],
   "source": []
  },
  {
   "cell_type": "code",
   "execution_count": null,
   "metadata": {},
   "outputs": [],
   "source": []
  }
 ],
 "metadata": {
  "kernelspec": {
   "display_name": "Python 3 (ipykernel)",
   "language": "python",
   "name": "python3"
  },
  "language_info": {
   "codemirror_mode": {
    "name": "ipython",
    "version": 3
   },
   "file_extension": ".py",
   "mimetype": "text/x-python",
   "name": "python",
   "nbconvert_exporter": "python",
   "pygments_lexer": "ipython3",
   "version": "3.10.9"
  }
 },
 "nbformat": 4,
 "nbformat_minor": 4
}
