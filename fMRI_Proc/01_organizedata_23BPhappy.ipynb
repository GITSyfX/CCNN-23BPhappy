{
 "cells": [
  {
   "attachments": {},
   "cell_type": "markdown",
   "id": "edba02dd",
   "metadata": {},
   "source": [
    "# 01_organizedata"
   ]
  },
  {
   "attachments": {},
   "cell_type": "markdown",
   "id": "08f644bc",
   "metadata": {},
   "source": [
    "这是MRI数据pipeline的第一部分: 整理数据。注意下面命令前面加！号是为了在python环境中跑bash命令"
   ]
  },
  {
   "attachments": {},
   "cell_type": "markdown",
   "id": "be5cee29",
   "metadata": {},
   "source": [
    "1. 上传数据\n",
    "* 连接拷回来的光盘，然后利用ftp软件连接stout之后，上传数据。\n",
    "* 所有的原始数据，都放到 /home/data/rawdata 文件夹下，每一个session用一个文件夹表示，通常为 ‘年月日_实验缩写_被试代号’的格式，例如“20220110_CET_CN003”\n",
    "* 在改文件夹下，新建一个 `mat_files_from_exp`的文件夹用来存放所有的scan里面的行为数据"
   ]
  },
  {
   "attachments": {},
   "cell_type": "markdown",
   "id": "7b987096",
   "metadata": {},
   "source": [
    "2. 打开terminal, 为是你自己上传，该文件夹只能你个人操作，开放权限让别人也能读取"
   ]
  },
  {
   "cell_type": "code",
   "execution_count": 72,
   "id": "5352b24b-8998-4e69-bd6f-939742791a79",
   "metadata": {},
   "outputs": [
    {
     "name": "stdout",
     "output_type": "stream",
     "text": [
      "/home/data/rawdata/23BPhappy\n"
     ]
    }
   ],
   "source": [
    "import os,shutil"
   ]
  },
  {
   "cell_type": "code",
   "execution_count": null,
   "id": "fe3e0157",
   "metadata": {},
   "outputs": [],
   "source": [
    "dirpath = '/home/data/rawdata/23BPhappy/' #获取数据存储文件夹，整理后的文件夹放在这\n",
    "MRIpath = dirpath + 'MRI_data/' #获取原始MRI文件存储路径\n",
    "Behavpath = dirpath + 'Behavior_data/' #获取原始行为数据存储路径\n",
    "subjlist = os.listdir(MRIpath) #获取被试的初始编号，准备改成上述规定格式的编号\n",
    "allmatlist = os.listdir(Behavpath) #获取全部被试的行为数据文件名，准备\n",
    "print(subjlist)\n",
    "%cd $dirpath"
   ]
  },
  {
   "cell_type": "code",
   "execution_count": 65,
   "id": "1456e309-7b94-4e5f-b866-2324b09a2052",
   "metadata": {},
   "outputs": [],
   "source": [
    "def copy_matfiles(this_subject,this_matpath,allmatlist): #从行为数据文件夹中找到这个被试的数据,并将其复制到/mat_files_from_exp文件夹\n",
    "    matfilelist = []\n",
    "    for i in allmatlist:\n",
    "        if this_subject in i:\n",
    "            matfilelist.append(i)\n",
    "\n",
    "    if this_subject not in str(matfilelist):\n",
    "        print('Matfiles of this_subject dont exist')\n",
    "    else:\n",
    "       if os.path.exists(this_matpath):\n",
    "            for this_matfile in matfilelist:  \n",
    "                print(this_matfile)\n",
    "                shutil.copy(Behavpath + this_matfile, this_matpath + '/mat_files_from_exp/' + this_matfile)"
   ]
  },
  {
   "cell_type": "code",
   "execution_count": 69,
   "id": "9e33494c-5e19-4a12-ab99-b5220a3e02bf",
   "metadata": {},
   "outputs": [],
   "source": [
    "%%capture\n",
    "for subjfile in subjlist:\n",
    "    this_subject = subjfile[0:4]\n",
    "    #.开头的隐藏文件可能也会被识别，把它们排除\n",
    "    if subjfile[0]==\".\": \n",
    "            continue\n",
    "    #将文件夹命名为规定格式\n",
    "    old_matpath = MRIpath + subjfile\n",
    "    new_matpath = MRIpath + subjfile[-8:] + '_BPhappy_' + subjfile[0:4]\n",
    "    os.rename(old_matpath,new_matpath) \n",
    "    #开放文件夹权限，并且使用dcm2niix_afni整理数据\n",
    "    ! chgrp -R student $new_matpath  \n",
    "    ! chmod g+w  $new_matpath\n",
    "    ! dcm2niix_afni -f %t_%s_%p $new_matpath\n",
    "    #准备/mat_files_from_exp文件夹\n",
    "    if os.path.exists(new_matpath + '/mat_files_from_exp'):\n",
    "        print('matdir exists!')\n",
    "        continue\n",
    "    os.mkdir(new_matpath + '/mat_files_from_exp') \n",
    "    #将行为数据复制到被试文件夹\n",
    "    copy_matfiles(this_subject,new_matpath,allmatlist)"
   ]
  },
  {
   "cell_type": "code",
   "execution_count": 71,
   "id": "c48b3e96-c19e-4632-a58e-13c4e0722254",
   "metadata": {},
   "outputs": [
    {
     "name": "stdout",
     "output_type": "stream",
     "text": [
      "20230206_BPhappy_M002\n",
      "/home/data/rawdata/23BPhappy/MRI_data/20230206_BPhappy_M002\n",
      "20230227_BPhappy_M005\n",
      "/home/data/rawdata/23BPhappy/MRI_data/20230227_BPhappy_M005\n",
      "mv: cannot stat '*gre_field*': No such file or directory\n",
      "20230227_BPhappy_M006\n",
      "/home/data/rawdata/23BPhappy/MRI_data/20230227_BPhappy_M006\n",
      "mv: cannot stat '*gre_field*': No such file or directory\n",
      "20230220_BPhappy_M004\n",
      "/home/data/rawdata/23BPhappy/MRI_data/20230220_BPhappy_M004\n",
      "mv: cannot stat '*_M*/': No such file or directory\n",
      "mv: cannot stat '*_g*/': No such file or directory\n",
      "mv: cannot stat '*_cmrr*/': No such file or directory\n",
      "mv: cannot stat '*DTI*': No such file or directory\n",
      "mv: cannot stat '*TASK2*': No such file or directory\n",
      "mv: cannot stat '*gre_field*': No such file or directory\n",
      "20230313_BPhappy_M010\n",
      "/home/data/rawdata/23BPhappy/MRI_data/20230313_BPhappy_M010\n",
      "mv: cannot stat '*gre_field*': No such file or directory\n",
      "20230312_BPhappy_M009\n",
      "/home/data/rawdata/23BPhappy/MRI_data/20230312_BPhappy_M009\n",
      "mv: cannot stat '*gre_field*': No such file or directory\n",
      "20230220_BPhappy_M003\n",
      "/home/data/rawdata/23BPhappy/MRI_data/20230220_BPhappy_M003\n",
      "mv: cannot stat '*gre_field*': No such file or directory\n",
      "20230312_BPhappy_M008\n",
      "/home/data/rawdata/23BPhappy/MRI_data/20230312_BPhappy_M008\n",
      "mv: cannot stat '*gre_field*': No such file or directory\n",
      "20230313_BPhappy_M011\n",
      "/home/data/rawdata/23BPhappy/MRI_data/20230313_BPhappy_M011\n",
      "mv: cannot stat '*gre_field*': No such file or directory\n",
      "20230306_BPhappy_M007\n",
      "/home/data/rawdata/23BPhappy/MRI_data/20230306_BPhappy_M007\n",
      "mv: cannot stat '*gre_field*': No such file or directory\n"
     ]
    }
   ],
   "source": [
    "%cd $MRIpath\n",
    "!ls -l\n",
    "new_subjlist = os.listdir(MRIpath) #获取重命名后的被试文件夹列表 \n",
    "for subjfolder in new_subjlist:\n",
    "    if subjfolder[0]==\".\":\n",
    "            continue\n",
    "    print(subjfolder)\n",
    "    pathname = MRIpath + subjfolder\n",
    "    #进一步整理文件夹，在被试文件夹中，建立一个rawfiles文件夹，把分析不需要的图像移进去\n",
    "    %cd $pathname\n",
    "    ! mkdir rawfiles\n",
    "    ! mv *localizer* rawfiles\n",
    "    ! mv *_M*/ *_g*/ *_cmrr*/ -t rawfiles\n",
    "    ! mv *DTI* rawfiles\n",
    "    ! mv *TASK2* rawfiles\n",
    "    ! mv *gre_field* rawfiles\n",
    "    ! mv *REST* rawfiles"
   ]
  },
  {
   "cell_type": "code",
   "execution_count": 73,
   "id": "611540f3-c2e7-448e-b39a-039ac5096be7",
   "metadata": {},
   "outputs": [
    {
     "name": "stdout",
     "output_type": "stream",
     "text": [
      "/home/data/rawdata/23BPhappy/MRI_data\n"
     ]
    }
   ],
   "source": [
    "%cd $MRIpath\n",
    "! mv */ -t $dirpath #把整理的被试文件夹移动到指定目录"
   ]
  }
 ],
 "metadata": {
  "kernelspec": {
   "display_name": "Python 3 (ipykernel)",
   "language": "python",
   "name": "python3"
  },
  "language_info": {
   "codemirror_mode": {
    "name": "ipython",
    "version": 3
   },
   "file_extension": ".py",
   "mimetype": "text/x-python",
   "name": "python",
   "nbconvert_exporter": "python",
   "pygments_lexer": "ipython3",
   "version": "3.10.9"
  }
 },
 "nbformat": 4,
 "nbformat_minor": 5
}
