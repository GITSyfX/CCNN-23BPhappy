{
 "cells": [
  {
   "cell_type": "code",
   "execution_count": 72,
   "id": "5352b24b-8998-4e69-bd6f-939742791a79",
   "metadata": {},
   "outputs": [
    {
     "name": "stdout",
     "output_type": "stream",
     "text": [
      "/home/data/rawdata/23BPhappy\n"
     ]
    }
   ],
   "source": [
    "dirpath = '/home/data/rawdata/23BPhappy/'\n",
    "%cd $dirpath"
   ]
  },
  {
   "cell_type": "code",
   "execution_count": 55,
   "id": "26c3593e-5281-40b8-bb1d-f96b2688ef6d",
   "metadata": {},
   "outputs": [],
   "source": [
    "import os,shutil"
   ]
  },
  {
   "cell_type": "code",
   "execution_count": 68,
   "id": "b447d620-176d-4749-bedf-ca2dd321451a",
   "metadata": {},
   "outputs": [
    {
     "name": "stdout",
     "output_type": "stream",
     "text": [
      "['M005_TANGRUIJIE_20230227', 'M003_HUWEINA_20230220', '.ipynb_checkpoints', 'M011_LUJIAYAO_20230313', 'M010_JIJIAYUN_20230313', 'M004_HUANGYARU_20230220', 'M008_ZHANGMILAI_20230312', 'M006_XIWENJING_20230227', 'M002_ZHANGCAN_20230206', 'M007_LIHUIYI_20230306', 'M009_SHAOWENYU_20230312']\n"
     ]
    }
   ],
   "source": [
    "MRIpath = dirpath + 'MRI_data/'\n",
    "Behavpath = dirpath + 'Behavior_data/'\n",
    "subjlist = os.listdir(MRIpath)\n",
    "allmatlist = os.listdir(Behavpath)\n",
    "print(subjlist)"
   ]
  },
  {
   "cell_type": "code",
   "execution_count": 65,
   "id": "1456e309-7b94-4e5f-b866-2324b09a2052",
   "metadata": {},
   "outputs": [],
   "source": [
    "def find_index(subject):\n",
    "    matfilelist = []\n",
    "    for i in allmatlist:\n",
    "        if subject in i:\n",
    "            matfilelist.append(i)\n",
    "    return(matfilelist)"
   ]
  },
  {
   "cell_type": "code",
   "execution_count": 66,
   "id": "7d6dd81f-8bcb-4950-beb9-c6fbf3283bc9",
   "metadata": {},
   "outputs": [],
   "source": [
    "def mycopyfile(subject,subjpath):\n",
    "    if subject not in str(allmatlist):\n",
    "        print('Matfiles of subject not exist')\n",
    "    else:\n",
    "       if os.path.exists(subjpath):\n",
    "            copylist = find_index(subject)\n",
    "            for subjtask in copylist:  \n",
    "                print(subjtask)\n",
    "                shutil.copy(Behavpath + subjtask, subjpath + '/mat_files_from_exp/' + subjtask)"
   ]
  },
  {
   "cell_type": "code",
   "execution_count": 69,
   "id": "9e33494c-5e19-4a12-ab99-b5220a3e02bf",
   "metadata": {},
   "outputs": [],
   "source": [
    "%%capture\n",
    "for subjfile in subjlist:\n",
    "    if subjfile[0]==\".\":\n",
    "            continue\n",
    "    oldname = MRIpath + subjfile\n",
    "    newname = MRIpath + subjfile[-8:] + '_BPhappy_' + subjfile[0:4]\n",
    "    os.rename(oldname,newname)\n",
    "    subject = subjfile[0:4]\n",
    "    ! chgrp -R student $newname \n",
    "    ! chmod g+w  $newname\n",
    "    ! dcm2niix_afni -f %t_%s_%p $newname\n",
    "    if os.path.exists(newname + '/mat_files_from_exp'):\n",
    "        print('matdir exists!')\n",
    "        continue\n",
    "    os.mkdir(newname + '/mat_files_from_exp')\n",
    "    mycopyfile(subject,newname)"
   ]
  },
  {
   "cell_type": "code",
   "execution_count": 70,
   "id": "d1679dc1-a3dd-4474-80bc-ee53189194b5",
   "metadata": {},
   "outputs": [
    {
     "name": "stdout",
     "output_type": "stream",
     "text": [
      "/home/data/rawdata/23BPhappy/MRI_data\n",
      "total 112\n",
      "drwxrwxr-x 37 yufengxia yufengxia 12288 4月  13 12:00 20230206_BPhappy_M002\n",
      "drwxrwxr-x 35 yufengxia yufengxia 12288 4月  13 12:00 20230220_BPhappy_M003\n",
      "drwxrwxr-x  5 yufengxia yufengxia  4096 4月  13 12:00 20230220_BPhappy_M004\n",
      "drwxrwxr-x 35 yufengxia yufengxia 12288 4月  13 12:00 20230227_BPhappy_M005\n",
      "drwxrwxr-x 34 yufengxia yufengxia 12288 4月  13 12:00 20230227_BPhappy_M006\n",
      "drwxrwxr-x 34 yufengxia yufengxia 12288 4月  13 12:00 20230306_BPhappy_M007\n",
      "drwxrwxr-x 34 yufengxia yufengxia 12288 4月  13 12:00 20230312_BPhappy_M008\n",
      "drwxrwxr-x 34 yufengxia yufengxia 12288 4月  13 12:00 20230312_BPhappy_M009\n",
      "drwxrwxr-x 34 yufengxia yufengxia 12288 4月  13 12:00 20230313_BPhappy_M010\n",
      "drwxrwxr-x 34 yufengxia yufengxia 12288 4月  13 12:00 20230313_BPhappy_M011\n"
     ]
    }
   ],
   "source": [
    "subjlist = os.listdir(MRIpath)\n",
    "%cd $MRIpath\n",
    "!ls -l"
   ]
  },
  {
   "cell_type": "code",
   "execution_count": 71,
   "id": "c48b3e96-c19e-4632-a58e-13c4e0722254",
   "metadata": {},
   "outputs": [
    {
     "name": "stdout",
     "output_type": "stream",
     "text": [
      "20230206_BPhappy_M002\n",
      "/home/data/rawdata/23BPhappy/MRI_data/20230206_BPhappy_M002\n",
      "20230227_BPhappy_M005\n",
      "/home/data/rawdata/23BPhappy/MRI_data/20230227_BPhappy_M005\n",
      "mv: cannot stat '*gre_field*': No such file or directory\n",
      "20230227_BPhappy_M006\n",
      "/home/data/rawdata/23BPhappy/MRI_data/20230227_BPhappy_M006\n",
      "mv: cannot stat '*gre_field*': No such file or directory\n",
      "20230220_BPhappy_M004\n",
      "/home/data/rawdata/23BPhappy/MRI_data/20230220_BPhappy_M004\n",
      "mv: cannot stat '*_M*/': No such file or directory\n",
      "mv: cannot stat '*_g*/': No such file or directory\n",
      "mv: cannot stat '*_cmrr*/': No such file or directory\n",
      "mv: cannot stat '*DTI*': No such file or directory\n",
      "mv: cannot stat '*TASK2*': No such file or directory\n",
      "mv: cannot stat '*gre_field*': No such file or directory\n",
      "20230313_BPhappy_M010\n",
      "/home/data/rawdata/23BPhappy/MRI_data/20230313_BPhappy_M010\n",
      "mv: cannot stat '*gre_field*': No such file or directory\n",
      "20230312_BPhappy_M009\n",
      "/home/data/rawdata/23BPhappy/MRI_data/20230312_BPhappy_M009\n",
      "mv: cannot stat '*gre_field*': No such file or directory\n",
      "20230220_BPhappy_M003\n",
      "/home/data/rawdata/23BPhappy/MRI_data/20230220_BPhappy_M003\n",
      "mv: cannot stat '*gre_field*': No such file or directory\n",
      "20230312_BPhappy_M008\n",
      "/home/data/rawdata/23BPhappy/MRI_data/20230312_BPhappy_M008\n",
      "mv: cannot stat '*gre_field*': No such file or directory\n",
      "20230313_BPhappy_M011\n",
      "/home/data/rawdata/23BPhappy/MRI_data/20230313_BPhappy_M011\n",
      "mv: cannot stat '*gre_field*': No such file or directory\n",
      "20230306_BPhappy_M007\n",
      "/home/data/rawdata/23BPhappy/MRI_data/20230306_BPhappy_M007\n",
      "mv: cannot stat '*gre_field*': No such file or directory\n"
     ]
    }
   ],
   "source": [
    "for subjfile in subjlist:\n",
    "    if subjfile[0]==\".\":\n",
    "            continue\n",
    "    print(subjfile)\n",
    "    pathname = MRIpath + subjfile\n",
    "    %cd $pathname\n",
    "    ! mkdir rawfiles\n",
    "    ! mv *localizer* rawfiles\n",
    "    ! mv *_M*/ *_g*/ *_cmrr*/ -t rawfiles\n",
    "    ! mv *DTI* rawfiles\n",
    "    ! mv *TASK2* rawfiles\n",
    "    ! mv *gre_field* rawfiles"
   ]
  },
  {
   "cell_type": "code",
   "execution_count": 73,
   "id": "611540f3-c2e7-448e-b39a-039ac5096be7",
   "metadata": {},
   "outputs": [
    {
     "name": "stdout",
     "output_type": "stream",
     "text": [
      "/home/data/rawdata/23BPhappy/MRI_data\n"
     ]
    }
   ],
   "source": [
    "%cd $MRIpath\n",
    "! mv */ -t $dirpath"
   ]
  },
  {
   "cell_type": "code",
   "execution_count": null,
   "id": "dddf7a09-d821-49e5-9076-56668c7d0c6f",
   "metadata": {},
   "outputs": [],
   "source": []
  }
 ],
 "metadata": {
  "kernelspec": {
   "display_name": "Python 3 (ipykernel)",
   "language": "python",
   "name": "python3"
  },
  "language_info": {
   "codemirror_mode": {
    "name": "ipython",
    "version": 3
   },
   "file_extension": ".py",
   "mimetype": "text/x-python",
   "name": "python",
   "nbconvert_exporter": "python",
   "pygments_lexer": "ipython3",
   "version": "3.10.9"
  }
 },
 "nbformat": 4,
 "nbformat_minor": 5
}
