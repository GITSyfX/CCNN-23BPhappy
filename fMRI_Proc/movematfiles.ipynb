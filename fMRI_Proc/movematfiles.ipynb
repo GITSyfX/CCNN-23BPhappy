{
 "cells": [
  {
   "cell_type": "code",
   "execution_count": null,
   "metadata": {},
   "outputs": [],
   "source": [
    "import os,shutil"
   ]
  },
  {
   "cell_type": "code",
   "execution_count": null,
   "metadata": {},
   "outputs": [],
   "source": [
    "rawpath = '/home/data/rawdata/23BPhappy/' #获取数据存储文件夹，整理后的文件夹放在这\n",
    "dirpath = '/home/yufengxia/Data/cyberball/'\n",
    "subjlist = os.listdir(rawpath) #获取被试的初始编号，准备改成上述规定格式的编号\n"
   ]
  },
  {
   "cell_type": "code",
   "execution_count": null,
   "metadata": {},
   "outputs": [],
   "source": [
    "#先将rawdata文件复制到目标文件夹\n",
    "for subjfile in subjlist:\n",
    "    this_subject = subjfile[-4:]\n",
    "    #.开头的隐藏文件可能也会被识别，把它们排除\n",
    "    if subjfile[0]==\".\": \n",
    "            continue\n",
    "    #将rawdata文件复制到目标路径，并重命名\n",
    "    rawsubjpath = rawpath + subjfile\n",
    "    dirsubjpath = dirpath + subjfile[0:8] + '_cyberball_' + this_subject \n",
    "    ! cp -r $rawsubjpath $dirsubjpath \n",
    "\n",
    "    #开放文件夹权限\n",
    "    ! chgrp -R student $dirsubjpath   \n",
    "    ! chmod g+w  $dirsubjpath \n"
   ]
  },
  {
   "cell_type": "code",
   "execution_count": null,
   "metadata": {},
   "outputs": [],
   "source": [
    "#进入被试文件夹，然后调换task1，task2文件顺序\n",
    "subjlist = os.listdir(dirpath)  #获取目标文件夹下复制重命名后的被试列表\n",
    "for subjfile in subjlist:\n",
    "    this_subject = subjfile[-4:]\n",
    "    #.开头的隐藏文件可能也会被识别，把它们排除\n",
    "    rawsubjpath = rawpath + subjfile\n",
    "    dirsubjpath = dirpath + subjfile[0:8] + '_cyberball_' + this_subject \n",
    "    try: \n",
    "        dirsubjpath = dirpath + subjfile\n",
    "        %cd $dirsubjpath #进入被试文件夹\n",
    "        ! mv \"*TASK1*\" rawfiles #将所有TASK1相关文件移动到rawfiles\n",
    "\n",
    "        rawfilespath =  dirsubjpath + '/rawfiles'\n",
    "        %cd $rawfilespath #进入rawfiles文件夹\n",
    "        ! find . -type f -name \"*TASK2*\" -exec mv {} .. \\; \n",
    "        #将所有TASK2相关文件移动到上一级，但是TASK2相关的原始文件夹保持不动\n",
    "    except:\n",
    "        continue"
   ]
  },
  {
   "cell_type": "code",
   "execution_count": null,
   "metadata": {},
   "outputs": [],
   "source": [
    "subjlist = os.listdir(dirpath)\n",
    "for subjfile in subjlist:\n",
    "    this_subject = subjfile[-4:]\n",
    "    rawsubjpath = os.path.join(rawpath, subjfile)\n",
    "    dirsubjpath = os.path.join(dirpath, subjfile[0:8] + '_cyberball_' + this_subject)\n",
    "\n",
    "    try:\n",
    "        dirsubjpath = os.path.join(dirpath, subjfile)\n",
    "        os.chdir(dirsubjpath)\n",
    "\n",
    "        # Move TASK1 files to rawfiles\n",
    "        for filename in os.listdir(\".\"):\n",
    "            if \"TASK1\" in filename:\n",
    "                shutil.move(filename, os.path.join(\"rawfiles\", filename))\n",
    "\n",
    "        rawfilespath = os.path.join(dirsubjpath, \"rawfiles\")\n",
    "\n",
    "        os.chdir(rawfilespath)\n",
    "        # Move TASK2 files up one level\n",
    "        for filename in os.listdir(\".\"):\n",
    "            if \"TASK2\" in filename and os.path.isfile(filename):\n",
    "                shutil.move(filename, os.path.join(dirsubjpath, filename))\n",
    "\n",
    "    except Exception as e:\n",
    "        print(\"Error:\", e)\n",
    "        continue"
   ]
  }
 ],
 "metadata": {
  "language_info": {
   "name": "python"
  },
  "orig_nbformat": 4
 },
 "nbformat": 4,
 "nbformat_minor": 2
}
