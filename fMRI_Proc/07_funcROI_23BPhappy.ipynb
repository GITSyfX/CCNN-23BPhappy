{
 "cells": [
  {
   "cell_type": "code",
   "execution_count": null,
   "metadata": {},
   "outputs": [],
   "source": [
    "import os\n",
    "from RZutilpy.system import Path, unix_wrapper, gettimestr, makedirs\n",
    "from RZutilpy.rzio import matchfiles\n",
    "import scipy.io as scio\n",
    "import re\n",
    "import pandas as pd\n",
    "from pathlib import Path"
   ]
  },
  {
   "cell_type": "code",
   "execution_count": null,
   "metadata": {},
   "outputs": [],
   "source": [
    "#加载mask\n",
    "%cd /home/data/yufengspace/23BPhappy/results/\n",
    "\n"
   ]
  },
  {
   "cell_type": "code",
   "execution_count": null,
   "metadata": {},
   "outputs": [],
   "source": [
    "folders = matchfiles(f'/home/data/yufengspace/23BPhappy/*_BPhappy_*')\n",
    "Param1 = 'option_CRandEV'\n",
    "Param2 = 'gamble_RPE'\n",
    "seed = 'lvs' #set seedlabel\n",
    "AFNI_HOME = os.getenv('AFNIDIR')\n",
    "MNIT1 = AFNI_HOME + '/MNI152_2009_template_SSW.nii.gz'\n",
    "\n",
    "for folderofsubj in folders:\n",
    "    subj = folderofsubj[-4:]\n",
    "\n",
    "    ROI_dir = Path(f'{folderofsubj}/funcROI/')\n",
    "    ROI_dir = Path(ROI_dir)\n",
    "    #assert not GLM_dir.exists(), f'GLM dir {GLM_dir} already exists'\n",
    "    #verify that the results directory does not yet exist\n",
    "    if not os.path.exists(ROI_dir):\n",
    "        os.makedirs(ROI_dir)\n",
    "\n",
    "    os.chdir(ROI_dir)   \n",
    "\n",
    "    %cd $ROI_dir\n",
    "    ! 3dcalc -a /home/data/yufengspace/23BPhappy/results/clust2_lvs_mask_0002+tlrc -b ../funcppi/mask.{subj}.{seed}.nii.gz -expr 'ispositive(a) * ispositive(b)' -prefix cluster2in_{seed}_mask\n",
    "    ! 3dmaskave  -mask cluster2in_{seed}_mask+tlrc ../funcGLM1/{subj}_{Param1}_{Param2}_stats+tlrc'[12]' > GLM2_{subj}_cluster2in_{seed}_{Param2}_avgbeta.txt\n"
   ]
  },
  {
   "cell_type": "code",
   "execution_count": null,
   "metadata": {},
   "outputs": [],
   "source": []
  },
  {
   "cell_type": "code",
   "execution_count": null,
   "metadata": {},
   "outputs": [],
   "source": [
    "Group = scio.loadmat('/home/data/yufengspace/23BPhappy/temp/clidata.mat')\n",
    "Group = Group['clidata']\n",
    "\n",
    "\n",
    "\n",
    "GroupMDD = []\n",
    "GroupBD = []\n",
    "\n",
    "for i in range(0,len(Group)):\n",
    "    subj = Group[i][0][0]\n",
    "\n",
    "    if Group[i][10][0][0] == 0:\n",
    "        GroupMDD.append(subj)\n",
    "    elif Group[i][10][0][0] == 1:\n",
    "        GroupBD.append(subj)\n",
    "\n",
    "    #statsfiles = matchfiles(f'{GLM_dir}/*{Param1}_{Param2}_stats+tlrc.BRIK')\n",
    "    #!cp {statsfiles}  /home/yufengxia/Data/23BPhappy/temp\n",
    "    #print(statsfiles)"
   ]
  },
  {
   "cell_type": "code",
   "execution_count": null,
   "metadata": {},
   "outputs": [],
   "source": [
    "output_file = f'GLM2_cluster2in_{seed}_{Param2}_avgbeta.xlsx'\n",
    "# 用于存储所有数字的列表\n",
    "numbers_list = []\n",
    "\n",
    "folders = matchfiles(f'/home/data/yufengspace/23BPhappy/*_BPhappy_*')\n",
    "for folderofsubj in folders:\n",
    "    subj = folderofsubj[-4:]\n",
    "    if subj in GroupMDD or subj in GroupBD:\n",
    "        ROI_dir = Path(f'{folderofsubj}/funcROI/')\n",
    "        ROI_dir = Path(ROI_dir)\n",
    "        \n",
    "        \n",
    "        %cd $ROI_dir\n",
    "        txt_file = f'GLM2_{subj}_cluster2in_{seed}_{Param2}_avgbeta.txt'\n",
    "        with open(txt_file, 'r') as file:\n",
    "            # 读取文件内容\n",
    "            content = file.read()\n",
    "            # 使用正则表达式匹配数字\n",
    "            match = re.search(r'-?\\d+(\\.\\d+)?(e[-+]?\\d+)?', content)\n",
    "            if match:\n",
    "                # 将匹配到的数字添加到列表中\n",
    "                numbers_list.append(match.group(0))\n",
    "\n",
    "%cd /home/data/yufengspace/23BPhappy/results/\n",
    "df = pd.DataFrame(numbers_list, columns=['Beta_Weights'])\n",
    "# 将DataFrame写入Excel文件\n",
    "df.to_excel(output_file, index=False)\n",
    "\n"
   ]
  },
  {
   "cell_type": "code",
   "execution_count": null,
   "metadata": {},
   "outputs": [],
   "source": []
  },
  {
   "cell_type": "code",
   "execution_count": null,
   "metadata": {},
   "outputs": [],
   "source": [
    "\n",
    "folders = matchfiles(f'/home/data/yufengspace/23BPhappy/*_BPhappy_*')\n",
    "for folderofsubj in folders:\n",
    "    subj = folderofsubj[-4:]\n",
    "    ROI_dir = Path(f'{folderofsubj}/funcROI/')\n",
    "    ROI_dir = Path(ROI_dir)\n",
    "    # verify that the results directory does not yet exist\n",
    "    ! rm -rf {ROI_dir}\n"
   ]
  }
 ],
 "metadata": {
  "language_info": {
   "name": "python"
  }
 },
 "nbformat": 4,
 "nbformat_minor": 2
}
