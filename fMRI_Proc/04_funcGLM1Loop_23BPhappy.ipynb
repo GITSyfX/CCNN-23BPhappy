{
 "cells": [
  {
   "attachments": {},
   "cell_type": "markdown",
   "metadata": {},
   "source": [
    "# 04_funcGLM1Loop"
   ]
  },
  {
   "attachments": {},
   "cell_type": "markdown",
   "metadata": {},
   "source": [
    "这是功能像的1st GLM。"
   ]
  },
  {
   "cell_type": "code",
   "execution_count": null,
   "metadata": {},
   "outputs": [],
   "source": [
    "import os\n",
    "from RZutilpy.system import Path, unix_wrapper, gettimestr, makedirs\n",
    "from RZutilpy.rzio import matchfiles"
   ]
  },
  {
   "attachments": {},
   "cell_type": "markdown",
   "metadata": {},
   "source": [
    "# Step 1. "
   ]
  },
  {
   "attachments": {},
   "cell_type": "markdown",
   "metadata": {},
   "source": [
    "首先，我们走到记录modulation的txt文件夹"
   ]
  },
  {
   "cell_type": "code",
   "execution_count": null,
   "metadata": {},
   "outputs": [],
   "source": [
    "folders = matchfiles(f'/home/yufengxia/Data/23BPhappy/*_BPhappy_*')\n",
    "#del folders[0:19] \n",
    "AFNI_HOME = os.getenv('AFNIDIR')\n",
    "MNIT1 = AFNI_HOME + '/MNI152_2009_template_SSW.nii.gz'\n",
    "Param1 = 'option_CRandEV'\n",
    "Param2 = 'gamble_RPE'\n",
    "\n",
    "for folderofsubj in folders:\n",
    "    subj = folderofsubj[-4:]\n",
    "    m_txt1 = Path(f'/home/yufengxia/Data/23BPhappy/parametric_modulation/{subj}_{Param1}_modulation.txt')\n",
    "    m_txt2 = Path(f'/home/yufengxia/Data/23BPhappy/parametric_modulation/{subj}_{Param2}_modulation.txt')\n",
    "    GLM_dir = Path(f'{folderofsubj}/funcGLM1/')\n",
    "    GLM_dir = Path(GLM_dir)\n",
    "    #assert not GLM_dir.exists(), f'GLM dir {GLM_dir} already exists'\n",
    "    # verify that the results directory does not yet exist\n",
    "    if not os.path.exists(GLM_dir):\n",
    "        os.makedirs(GLM_dir)\n",
    "\n",
    "    os.chdir(GLM_dir)   \n",
    "\n",
    "    # ================================ regress =================================\n",
    "    # compute de-meaned motion parameters (for use in regression)\n",
    "    # in regress (detrend step)\n",
    "\n",
    "    # ------------------------------\n",
    "    # run the regression analysis. Note that stats results should be written as afni format\n",
    "    #-x1D_stop \n",
    "    #-mask mask_epi_anat.{subj}.nii.gz \\\n",
    "    %cd {folderofsubj}/funcpp\n",
    "    ! 3dDeconvolve -input pb07s.{subj}.r*.scale+tlrc.HEAD \\\n",
    "        -mask mask_epi_anat.{subj}.nii.gz \\\n",
    "        -censor motion_{subj}_censor.1D \\\n",
    "        -ortvec motion_demean.1D mot_demean \\\n",
    "        -polort 2 \\\n",
    "        -num_stimts 2 \\\n",
    "        -stim_times_AM2 1 {m_txt1} 'BLOCK5(1,1)' \\\n",
    "        -stim_times_AM2 2 {m_txt2} 'BLOCK5(1,1)' \\\n",
    "        -stim_label 1 {Param1} \\\n",
    "        -stim_label 2 {Param2} \\\n",
    "        -rout -fout -tout \\\n",
    "        -x1D $GLM_dir/{subj}_{Param1}_{Param2}_X1d \\\n",
    "        -xjpeg $GLM_dir/{subj}_{Param1}_{Param2}_X_output.jpg \\\n",
    "        -bucket $GLM_dir/{subj}_{Param1}_{Param2}_stats \\\n",
    "        -cbucket $GLM_dir/{subj}_{Param1}_{Param2}_cbucket \\\n",
    "        -errts $GLM_dir/{subj}_{Param1}_{Param2}_errts \\\n",
    "        -GOFORIT 4 \n",
    "\n",
    "\n"
   ]
  },
  {
   "cell_type": "code",
   "execution_count": null,
   "metadata": {},
   "outputs": [],
   "source": [
    "#可视化结果，在ipython上定义好是哪个被试的funcGLM，然后用下面的代码一个个打开看\n",
    "%cd {GLM_dir} \n",
    "! afni -dset {subj}_{Param1}_{Param2}_stats.nii.gz  {MNIT1}"
   ]
  },
  {
   "cell_type": "code",
   "execution_count": null,
   "metadata": {},
   "outputs": [],
   "source": [
    "#如果出错，则删除funcGLM文件夹重来\n",
    "folders = matchfiles(f'/home/yufengxia/Data/23BPhappy/*_BPhappy_*')\n",
    "for folderofsubj in folders:\n",
    "    subj = folderofsubj[-4:]\n",
    "    GLM_dir = Path(f'{folderofsubj}/funcGLM1/')\n",
    "    GLM_dir = Path(GLM_dir)\n",
    "    # verify that the results directory does not yet exist\n",
    "    ! rm -rf {GLM_dir}\n"
   ]
  },
  {
   "cell_type": "code",
   "execution_count": null,
   "metadata": {},
   "outputs": [],
   "source": [
    "Group = scio.loadmat('/home/yufengxia/Data/23BPhappy/temp/clidata.mat')\n",
    "Group = Group['clidata']\n",
    "\n",
    "\n",
    "\n",
    "GroupMDD = []\n",
    "GroupBD = []\n",
    "#del folders[0:12] \n",
    "\n",
    "Param1 = 'option_CRandEV'\n",
    "Param2 = 'gamble_CRandEV'\n",
    "for i in range(0,len(Group)):\n",
    "    subj = Group[i][0][0]\n",
    "    folders = matchfiles(f'/home/yufengxia/Data/23BPhappy/*_BPhappy_{subj}')\n",
    "    GLM_dir = Path(f'{folders}/funcGLM1')\n",
    "    GLM_dir = Path(GLM_dir)\n",
    "    if GLM_dir.exists() == False:\n",
    "        continue\n",
    "\n",
    "    if Group[i][10][0][0] == 0:\n",
    "        GroupMDD.append(subj)\n",
    "    elif Group[i][10][0][0] == 1:\n",
    "            GroupBD.append(subj)\n",
    "\n",
    "    statsfiles = matchfiles(f'{GLM_dir}/*{Param1}_{Param2}_stats.nii*')\n",
    "    !cp {statsfiles}  /home/yufengxia/Data/23BPhappy/temp\n",
    "    print(statsfiles)"
   ]
  }
 ],
 "metadata": {
  "kernelspec": {
   "display_name": "Python 3 (ipykernel)",
   "language": "python",
   "name": "python3"
  },
  "language_info": {
   "codemirror_mode": {
    "name": "ipython",
    "version": 3
   },
   "file_extension": ".py",
   "mimetype": "text/x-python",
   "name": "python",
   "nbconvert_exporter": "python",
   "pygments_lexer": "ipython3",
   "version": "3.10.9"
  }
 },
 "nbformat": 4,
 "nbformat_minor": 4
}
