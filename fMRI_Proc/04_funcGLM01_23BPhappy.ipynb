{
 "cells": [
  {
   "attachments": {},
   "cell_type": "markdown",
   "metadata": {},
   "source": [
    "# 03_funcpp03"
   ]
  },
  {
   "attachments": {},
   "cell_type": "markdown",
   "metadata": {},
   "source": [
    "这是功能像的1st GLM。"
   ]
  },
  {
   "attachments": {},
   "cell_type": "markdown",
   "metadata": {},
   "source": [
    "# Step 1. "
   ]
  },
  {
   "attachments": {},
   "cell_type": "markdown",
   "metadata": {},
   "source": [
    "首先，我们走到记录modulation的txt文件夹"
   ]
  },
  {
   "cell_type": "code",
   "execution_count": null,
   "metadata": {},
   "outputs": [],
   "source": [
    "m_txt = Path(f'/home/yufengxia/Code/yfXRepo/fMRICourse/Example_data/parametric_modulation/{subj}_SurfVol.nii')\n",
    "GLM_dir = Path(f'/home/yufengxia/Code/yfXRepo/fMRICourse/Example_data/20230313_BPhappy_M011/funcGLM/')\n",
    "\n",
    "# verify that the results directory does not yet exist\n",
    "GLM_dir = Path(GLM_dir)\n",
    "assert not GLM_dir.exists(), f'GLM dir {GLM_dir} already exists'\n",
    "makedirs(GLM_dir)\n",
    "#makedirs((output_dir / 'stimuli'))\n",
    "# enter the results directory (can begin processing data)\n",
    "os.chdir(GLM_dir)"
   ]
  },
  {
   "cell_type": "code",
   "execution_count": null,
   "metadata": {},
   "outputs": [],
   "source": [
    "# ================================ regress =================================\n",
    "# compute de-meaned motion parameters (for use in regression)\n",
    "# in regress (detrend step)\n",
    "\n",
    "# ------------------------------\n",
    "# run the regression analysis. Note that stats results should be written as afni format\n",
    "! 3dDeconvolve -input pb07.{subj}.r*.scale+tlrc.HEAD \\\n",
    "    -mask mask_epi_anat.{subj}.nii.gz \\\n",
    "    -censor motion_{subj}_censor.1D \\\n",
    "    -ortvec motion_demean.1D mot_demean \\\n",
    "    -polort 2 \\\n",
    "    -num_stimts 1 \\\n",
    "    -stim_times_AM2 1 {m_txt} 'BLOCK(4,1)'\\\n",
    "    -stim_label 1 VeBeo\\\n",
    "    -jobs 8 \\ \n",
    "    -fout -tout -rout \\\n",
    "    -xjpeg $out_dir/X.jpg \\\n",
    "    -bucket $out_dir/stats.nii.gz \\\n",
    "    -cbucket $out_dir/stats_cbucket.nii.gz\\\n",
    "        \n",
    "# should add save a script here"
   ]
  },
  {
   "cell_type": "code",
   "execution_count": null,
   "metadata": {},
   "outputs": [],
   "source": [
    "#!/bin/bash\n",
    "\n",
    "# 设置变量\n",
    "subj=001\n",
    "run=01\n",
    "stim_file=/path/to/stimulus/file.txt\n",
    "anat_file=/path/to/anatomical/image.nii.gz\n",
    "epi_file=/path/to/functional/image.nii.gz\n",
    "out_dir=/path/to/output/directory\n",
    "\n",
    "# 进行GLM分析\n",
    "3dDeconvolve -input $out/epi_volreg.nii.gz \\ \n",
    "    -mask $out_dir/epi_mask.nii.gz \\ \n",
    "    -polort A \n",
    "    -num_stimts 1 \n",
    "    -stim_file 1 $stim_file \n",
    "    -tout -x1D $out_dir/X.xmat.1D \n",
    "    -xjpeg $out_dir/X.jpg \n",
    "    -bucket $out_dir/stats.nii.gz \n",
    "    -cbucket $out_dir/stats_cbucket.nii.gz\n"
   ]
  }
 ],
 "metadata": {
  "kernelspec": {
   "display_name": "Python 3 (ipykernel)",
   "language": "python",
   "name": "python3"
  },
  "language_info": {
   "codemirror_mode": {
    "name": "ipython",
    "version": 3
   },
   "file_extension": ".py",
   "mimetype": "text/x-python",
   "name": "python",
   "nbconvert_exporter": "python",
   "pygments_lexer": "ipython3",
   "version": "3.10.9"
  }
 },
 "nbformat": 4,
 "nbformat_minor": 4
}
