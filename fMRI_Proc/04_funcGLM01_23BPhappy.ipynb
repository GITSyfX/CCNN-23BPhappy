{
 "cells": [
  {
   "attachments": {},
   "cell_type": "markdown",
   "metadata": {},
   "source": [
    "# 03_funcpp03"
   ]
  },
  {
   "attachments": {},
   "cell_type": "markdown",
   "metadata": {},
   "source": [
    "这是功能像的1st GLM。"
   ]
  },
  {
   "cell_type": "code",
   "execution_count": null,
   "metadata": {},
   "outputs": [],
   "source": [
    "from RZutilpy.system import Path, unix_wrapper, gettimestr, makedirs"
   ]
  },
  {
   "attachments": {},
   "cell_type": "markdown",
   "metadata": {},
   "source": [
    "# Step 1. "
   ]
  },
  {
   "attachments": {},
   "cell_type": "markdown",
   "metadata": {},
   "source": [
    "首先，我们走到记录modulation的txt文件夹"
   ]
  },
  {
   "cell_type": "code",
   "execution_count": null,
   "metadata": {},
   "outputs": [],
   "source": [
    "subj = 'M011'\n",
    "m_txt = Path(f'/home/yufengxia/Code/yfXRepo/fMRICourse/Example_data/parametric_modulation/{subj}_RPE_modulation.txt')\n",
    "GLM_dir = Path(f'/home/yufengxia/Code/yfXRepo/fMRICourse/Example_data/20230313_BPhappy_M011/funcGLM/')\n",
    "\n",
    "# verify that the results directory does not yet exist\n",
    "GLM_dir = Path(GLM_dir)\n",
    "assert not GLM_dir.exists(), f'GLM dir {GLM_dir} already exists'\n",
    "makedirs(GLM_dir)\n",
    "#makedirs((output_dir / 'stimuli'))\n",
    "#enter the results directory (can begin processing data)\n",
    "os.chdir(GLM_dir)"
   ]
  },
  {
   "cell_type": "code",
   "execution_count": null,
   "metadata": {},
   "outputs": [],
   "source": [
    "# ================================ regress =================================\n",
    "# compute de-meaned motion parameters (for use in regression)\n",
    "# in regress (detrend step)\n",
    "\n",
    "# ------------------------------\n",
    "# run the regression analysis. Note that stats results should be written as afni format\n",
    "%cd /home/yufengxia/Code/yfXRepo/fMRICourse/Example_data/20230313_BPhappy_M011/funcpp/\n",
    "! 3dDeconvolve -input pb07.{subj}.r*.scale+tlrc.HEAD \\\n",
    "    -mask mask_epi_anat.{subj}.nii.gz \\\n",
    "    -censor motion_{subj}_censor.1D \\\n",
    "    -ortvec motion_demean.1D mot_demean \\\n",
    "    -polort 2 \\\n",
    "    -num_stimts 1 \\\n",
    "    -stim_times_AM2 1 {m_txt} 'BLOCK(4,1)' \\\n",
    "    -stim_label 1 BpHappy \\\n",
    "    -rout -fout -tout \\\n",
    "    -xjpeg $GLM_dir/X_output.jpg \\\n",
    "    -bucket $GLM_dir/stats.nii.gz \\\n",
    "    -cbucket $GLM_dir/stats_cbucket.nii.gz \n",
    "\n",
    "        "
   ]
  },
  {
   "cell_type": "code",
   "execution_count": null,
   "metadata": {},
   "outputs": [],
   "source": [
    "#可视化结果\n",
    "%cd /home/yufengxia/Code/yfXRepo/fMRICourse/Example_data/20230313_BPhappy_M011/funcGLM \n",
    "! afni -dset stats.nii.gz  {MNIT1}"
   ]
  },
  {
   "cell_type": "code",
   "execution_count": null,
   "metadata": {},
   "outputs": [],
   "source": []
  }
 ],
 "metadata": {
  "kernelspec": {
   "display_name": "Python 3 (ipykernel)",
   "language": "python",
   "name": "python3"
  },
  "language_info": {
   "codemirror_mode": {
    "name": "ipython",
    "version": 3
   },
   "file_extension": ".py",
   "mimetype": "text/x-python",
   "name": "python",
   "nbconvert_exporter": "python",
   "pygments_lexer": "ipython3",
   "version": "3.10.9"
  }
 },
 "nbformat": 4,
 "nbformat_minor": 4
}
