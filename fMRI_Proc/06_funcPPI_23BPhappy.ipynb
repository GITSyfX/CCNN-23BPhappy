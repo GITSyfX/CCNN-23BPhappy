{
 "cells": [
  {
   "cell_type": "code",
   "execution_count": null,
   "metadata": {},
   "outputs": [],
   "source": [
    "import os\n",
    "from RZutilpy.system import Path, unix_wrapper, gettimestr, makedirs\n",
    "from RZutilpy.rzio import matchfiles"
   ]
  },
  {
   "cell_type": "code",
   "execution_count": null,
   "metadata": {},
   "outputs": [],
   "source": [
    "folders = matchfiles(f'/home/data/yufengspace/23BPhappy/*_BPhappy_*')\n",
    "seed = 'rvs' #set seedlabel\n",
    "AFNI_HOME = os.getenv('AFNIDIR')\n",
    "MNIT1 = AFNI_HOME + '/MNI152_2009_template_SSW.nii.gz'\n",
    "Param1 = 'option_CRandEV'\n",
    "Param2 = 'gamble_RPE'\n",
    "script_dir = Path(f'/home/yufengxia/Code/yfXRepo/CCNN-23BPhappy/fMRI_Proc/')\n",
    "script_dir = Path(script_dir)\n",
    "\n",
    "for folderofsubj in folders:\n",
    "    subj = folderofsubj[-4:]\n",
    "\n",
    "    ppi_dir = Path(f'{folderofsubj}/funcppi/')\n",
    "    ppi_dir = Path(ppi_dir)\n",
    "    #assert not GLM_dir.exists(), f'GLM dir {GLM_dir} already exists'\n",
    "    #verify that the results directory does not yet exist\n",
    "    if not os.path.exists(ppi_dir):\n",
    "        os.makedirs(ppi_dir)\n",
    "\n",
    "    os.chdir(ppi_dir)   \n",
    "\n",
    "    %cd $ppi_dir\n",
    "    #generate seed time seires by errts\n",
    "    ! echo 10 12 -8 | 3dUndump -xyz -srad 6 -master ../funcGLM1/{subj}_{Param1}_{Param2}_stats+tlrc  -prefix mask.{subj}.{seed}.nii.gz -\n",
    "    ! 3dmaskave -quiet -mask mask.{subj}.{seed}.nii.gz ../funcGLM1/{subj}_{Param1}_{Param2}_errts+tlrc > ppi.{subj}.{seed}.1D\n",
    "    #copy timing files into stimuli directory\n",
    "    %cd /home/data/yufengspace/23BPhappy/parametric_modulation/\n",
    "    ! mkdir -p $ppi_dir/stimuli\n",
    "    ! cp -r {subj}_{Param1}*.txt $ppi_dir/stimuli/AFNI_timing.times.1.txt\n",
    "    ! cp -r {subj}_{Param2}*.txt $ppi_dir/stimuli/AFNI_timing.times.2.txt\n",
    "\n",
    "    %cd $ppi_dir\n",
    "    # generate PPI regressors from seed and timing files\n",
    "    ! tcsh $script_dir/scripts/cmd.ppi.23BPhappy.regs {subj} {seed}\n",
    "    # copy the results into the stimuli directory\n",
    "    ! cp work.{subj}/p6.* ppi.{subj}.{seed}.1D stimuli \n",
    "    # downsample \n",
    "    ! tcsh $script_dir/scripts/proc.3dd.ppi.post.full {subj} {seed}"
   ]
  },
  {
   "cell_type": "code",
   "execution_count": null,
   "metadata": {},
   "outputs": [],
   "source": [
    "folders = matchfiles(f'/home/data/yufengspace/23BPhappy/*_BPhappy_*')\n",
    "for folderofsubj in folders:\n",
    "    subj = folderofsubj[-4:]\n",
    "    ppi_dir = Path(f'{folderofsubj}/funcppi/')\n",
    "    ppi_dir = Path(ppi_dir)\n",
    "    # verify that the results directory does not yet exist\n",
    "    ! rm -rf {ppi_dir}\n"
   ]
  }
 ],
 "metadata": {
  "language_info": {
   "name": "python"
  }
 },
 "nbformat": 4,
 "nbformat_minor": 2
}
