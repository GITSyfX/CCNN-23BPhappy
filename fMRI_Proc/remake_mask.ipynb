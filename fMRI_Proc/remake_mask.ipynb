{
 "cells": [
  {
   "cell_type": "code",
   "execution_count": null,
   "metadata": {},
   "outputs": [],
   "source": [
    "import os "
   ]
  },
  {
   "cell_type": "code",
   "execution_count": null,
   "metadata": {},
   "outputs": [],
   "source": [
    "#载入数据路径\n",
    "subjlist = os.listdir('/home/yufengxia/Data/23BPhappy/')"
   ]
  },
  {
   "cell_type": "code",
   "execution_count": null,
   "metadata": {},
   "outputs": [],
   "source": [
    "\n",
    "for subjfolder in subjlist:\n",
    "    #先注意看清你的被试数据命名，比如我的命名为20230515_BPhappy_M035，长度是21，请按你的命名修改这里的长度\n",
    "    if subjfolder[-5:-3] == '_M' and len(subjfolder)==21:\n",
    "        %cd /home/yufengxia/Data/23BPhappy/{subjfolder}/funcpp\n",
    "        subj = subjfolder[-4:]\n",
    "        #删除之前错误的mask\n",
    "        ! rm mask_anat.{subj}.nii.gz \n",
    "        ! rm out.mask_ae_dice.txt\n",
    "        ! rm mask_epi_anat.{subj}.nii.gz\n",
    "        #重新生成新的mask\n",
    "        ! 3dresample -master full_mask.{subj}.nii.gz -input \\\n",
    "                /home/yufengxia/Data/test/MNI152_2009_template_SSW.nii.gz'[0]' -prefix rm.resam.anat.nii.gz\n",
    "        # convert to binary anat mask; fill gaps and holes\n",
    "        ! 3dmask_tool -dilate_input 5 -5 -fill_holes -input rm.resam.anat.nii.gz \\\n",
    "                    -prefix mask_anat.{subj}.nii.gz\n",
    "        \n",
    "        # 结合功能像和结构像的mask\n",
    "        # compute tighter EPI mask by intersecting with anat mask\n",
    "        ! 3dmask_tool -input full_mask.{subj}.nii.gz mask_anat.{subj}.nii.gz \\\n",
    "                    -inter -prefix mask_epi_anat.{subj}.nii.gz\n",
    "        # note Dice coefficient of masks, as well\n",
    "        ! 3ddot -dodice full_mask.{subj}.nii.gz mask_anat.{subj}.nii.gz > out.mask_ae_dice.txt\n",
    "\n",
    "        # 删掉多余文件\n",
    "        ! rm rm*"
   ]
  }
 ],
 "metadata": {
  "kernelspec": {
   "display_name": "base",
   "language": "python",
   "name": "python3"
  },
  "language_info": {
   "codemirror_mode": {
    "name": "ipython",
    "version": 3
   },
   "file_extension": ".py",
   "mimetype": "text/x-python",
   "name": "python",
   "nbconvert_exporter": "python",
   "pygments_lexer": "ipython3",
   "version": "3.10.9"
  }
 },
 "nbformat": 4,
 "nbformat_minor": 2
}
